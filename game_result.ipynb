{
 "cells": [
  {
   "cell_type": "markdown",
   "metadata": {},
   "source": [
    "### Импорт функций"
   ]
  },
  {
   "cell_type": "code",
   "execution_count": 1,
   "metadata": {},
   "outputs": [],
   "source": [
    "import numpy as np\n",
    "\n",
    "from game import random_predict\n",
    "from game_v2 import game_core_v2\n",
    "from game_v3_2 import game_core_v3\n",
    "from score_game import score_game"
   ]
  },
  {
   "cell_type": "markdown",
   "metadata": {},
   "source": [
    "### Вызов функций и сверка кол-ва попыток для каждой"
   ]
  },
  {
   "cell_type": "code",
   "execution_count": 2,
   "metadata": {},
   "outputs": [
    {
     "name": "stdout",
     "output_type": "stream",
     "text": [
      "Run benchmarking for random_predict: Ваш алгоритм угадывает число в среднем за: 98 попытки\n",
      "Run benchmarking for game_core_v2: Ваш алгоритм угадывает число в среднем за: 33 попытки\n",
      "Run benchmarking for game_core_v3: Ваш алгоритм угадывает число в среднем за: 4 попытки\n"
     ]
    }
   ],
   "source": [
    "print('Run benchmarking for random_predict: ', end='')\n",
    "score_game(random_predict)\n",
    "\n",
    "\n",
    "print('Run benchmarking for game_core_v2: ', end='')\n",
    "score_game(game_core_v2)\n",
    "\n",
    "\n",
    "print('Run benchmarking for game_core_v3: ', end='')\n",
    "score_game(game_core_v3)"
   ]
  }
 ],
 "metadata": {
  "kernelspec": {
   "display_name": "Python 3",
   "language": "python",
   "name": "python3"
  },
  "language_info": {
   "codemirror_mode": {
    "name": "ipython",
    "version": 3
   },
   "file_extension": ".py",
   "mimetype": "text/x-python",
   "name": "python",
   "nbconvert_exporter": "python",
   "pygments_lexer": "ipython3",
   "version": "3.9.10"
  }
 },
 "nbformat": 4,
 "nbformat_minor": 2
}
